{
 "cells": [
  {
   "cell_type": "markdown",
   "id": "8e4d0a1d-cea4-4ac3-881c-7852366782ae",
   "metadata": {},
   "source": [
    "# Numpy\n"
   ]
  },
  {
   "cell_type": "code",
   "execution_count": 1,
   "id": "5cfbfa6e-d1d8-4d6d-ae66-7cc6e28c31f4",
   "metadata": {},
   "outputs": [],
   "source": [
    "import numpy as np"
   ]
  },
  {
   "cell_type": "markdown",
   "id": "14cbcd48-1bcd-43ba-8b1c-40921b1743c4",
   "metadata": {},
   "source": [
    "# Question 1 getting even nums from 70 to 100 "
   ]
  },
  {
   "cell_type": "code",
   "execution_count": 2,
   "id": "6ca93ade-f166-46c1-a5e4-21a28343388e",
   "metadata": {},
   "outputs": [],
   "source": [
    "Even_num = np.linspace(30,70,21)"
   ]
  },
  {
   "cell_type": "code",
   "execution_count": 3,
   "id": "f06ef4fe-c051-46c6-b572-21702d3a0dc3",
   "metadata": {},
   "outputs": [
    {
     "data": {
      "text/plain": [
       "array([30., 32., 34., 36., 38., 40., 42., 44., 46., 48., 50., 52., 54.,\n",
       "       56., 58., 60., 62., 64., 66., 68., 70.])"
      ]
     },
     "execution_count": 3,
     "metadata": {},
     "output_type": "execute_result"
    }
   ],
   "source": [
    "Even_num"
   ]
  },
  {
   "cell_type": "markdown",
   "id": "3cb91fa2-15fc-49ac-8fd0-9cac808acd8d",
   "metadata": {},
   "source": [
    "# Question 2 to generate an array of 15 random numbers from a standard normal\r\n",
    "distribution*"
   ]
  },
  {
   "cell_type": "code",
   "execution_count": 4,
   "id": "3b9f3b33-4d88-4716-86d3-bdcf57beadae",
   "metadata": {},
   "outputs": [],
   "source": [
    "random = np.random.randn((15))"
   ]
  },
  {
   "cell_type": "code",
   "execution_count": 5,
   "id": "901ca9df-37a7-430d-9ff0-1afa07732ab7",
   "metadata": {},
   "outputs": [
    {
     "data": {
      "text/plain": [
       "array([-0.7333272 ,  0.39596359,  1.0151679 , -2.32513028,  0.90646723,\n",
       "        0.04523621,  0.35451526,  0.51735859, -1.37037916,  0.94691978,\n",
       "       -0.41557958, -1.47372368,  0.58938863,  0.44439781,  0.21626961])"
      ]
     },
     "execution_count": 5,
     "metadata": {},
     "output_type": "execute_result"
    }
   ],
   "source": [
    "random"
   ]
  },
  {
   "cell_type": "markdown",
   "id": "33dccf5a-591a-4344-9797-dc8cc9d752dc",
   "metadata": {},
   "source": [
    "# Question 3 to compute the cross-product of two matrices in NumPy?"
   ]
  },
  {
   "cell_type": "code",
   "execution_count": 6,
   "id": "556e8e25-51bf-4175-973e-9f541c6afcd4",
   "metadata": {},
   "outputs": [],
   "source": [
    "matrice_1 = np.array([[1,2],[3,4]])"
   ]
  },
  {
   "cell_type": "code",
   "execution_count": 7,
   "id": "e2d0de4f-3ec9-4a06-8fcf-3bb9e326e9f0",
   "metadata": {},
   "outputs": [],
   "source": [
    "matrice_2 = np.array([[1,2],[1,2]])"
   ]
  },
  {
   "cell_type": "code",
   "execution_count": 8,
   "id": "68840368-5ab0-4ec7-8e11-75741219aef2",
   "metadata": {},
   "outputs": [],
   "source": [
    "multiplication = np.multiply(matrice_1,matrice_2)"
   ]
  },
  {
   "cell_type": "code",
   "execution_count": 9,
   "id": "95d23519-9f92-4217-9e8b-a509e73316fd",
   "metadata": {},
   "outputs": [
    {
     "data": {
      "text/plain": [
       "array([[1, 4],\n",
       "       [3, 8]])"
      ]
     },
     "execution_count": 9,
     "metadata": {},
     "output_type": "execute_result"
    }
   ],
   "source": [
    "multiplication"
   ]
  },
  {
   "cell_type": "markdown",
   "id": "6c2fa97c-b34e-4643-883e-8f1db33b3d75",
   "metadata": {},
   "source": [
    "# Question 4  to compute the determinant of an array using NumPy?"
   ]
  },
  {
   "cell_type": "code",
   "execution_count": 10,
   "id": "9d7a9558-a210-4e6d-be68-7756c973c74a",
   "metadata": {},
   "outputs": [],
   "source": [
    "matrix = np.array([[1,2],[1,2]])"
   ]
  },
  {
   "cell_type": "code",
   "execution_count": 11,
   "id": "8b9af057-1aeb-4b15-8614-e28c2d304be2",
   "metadata": {},
   "outputs": [
    {
     "data": {
      "text/plain": [
       "array([[1, 2],\n",
       "       [1, 2]])"
      ]
     },
     "execution_count": 11,
     "metadata": {},
     "output_type": "execute_result"
    }
   ],
   "source": [
    "matrix"
   ]
  },
  {
   "cell_type": "code",
   "execution_count": 12,
   "id": "6e2b22a5-e3b2-4d28-82ba-4586c9437904",
   "metadata": {},
   "outputs": [],
   "source": [
    "deter = np.linalg.det(matrix)"
   ]
  },
  {
   "cell_type": "code",
   "execution_count": 13,
   "id": "70778b60-20ac-4356-aab1-27d8db3aa676",
   "metadata": {},
   "outputs": [
    {
     "data": {
      "text/plain": [
       "0.0"
      ]
     },
     "execution_count": 13,
     "metadata": {},
     "output_type": "execute_result"
    }
   ],
   "source": [
    "deter"
   ]
  },
  {
   "cell_type": "markdown",
   "id": "e76c32f1-9929-4c48-9751-8e40f2c0e520",
   "metadata": {},
   "source": [
    "# Question 5  to create a 3x3x3 array with random values using NumPy?"
   ]
  },
  {
   "cell_type": "code",
   "execution_count": 14,
   "id": "881a9687-5616-4c81-94cb-ed037bd53483",
   "metadata": {},
   "outputs": [],
   "source": [
    "rand_array = np.random.randint(0,100, size=(3,3))"
   ]
  },
  {
   "cell_type": "code",
   "execution_count": 15,
   "id": "72b4ea37-6989-4e8e-89cb-e52d32d4eed6",
   "metadata": {},
   "outputs": [
    {
     "data": {
      "text/plain": [
       "array([[ 0, 91,  6],\n",
       "       [13, 30, 56],\n",
       "       [54, 80, 43]])"
      ]
     },
     "execution_count": 15,
     "metadata": {},
     "output_type": "execute_result"
    }
   ],
   "source": [
    "rand_array"
   ]
  },
  {
   "cell_type": "markdown",
   "id": "b2d94528-643a-41eb-8108-dab0798f86b2",
   "metadata": {},
   "source": [
    "# Question 6 to create a 5x5 array with random values and find the minimum and maximum values using NumPy\r"
   ]
  },
  {
   "cell_type": "code",
   "execution_count": 16,
   "id": "8c0d5dc6-77be-4fe7-b45d-e42b08d08f0b",
   "metadata": {},
   "outputs": [],
   "source": [
    "random_array = np.random.randint(0,100, size=(5,5))"
   ]
  },
  {
   "cell_type": "code",
   "execution_count": 17,
   "id": "4b80cfa2-2418-4378-b128-66a2e5a2184c",
   "metadata": {},
   "outputs": [
    {
     "data": {
      "text/plain": [
       "array([[50, 62, 97, 79, 95],\n",
       "       [64,  5, 12, 34, 56],\n",
       "       [67, 18, 15, 63, 32],\n",
       "       [85, 26, 69, 24, 20],\n",
       "       [39, 40, 72, 28,  1]])"
      ]
     },
     "execution_count": 17,
     "metadata": {},
     "output_type": "execute_result"
    }
   ],
   "source": [
    "random_array"
   ]
  },
  {
   "cell_type": "code",
   "execution_count": 18,
   "id": "e7823fad-9529-45d5-986d-a8fa5bb0b17c",
   "metadata": {},
   "outputs": [],
   "source": [
    "maximum_int = np.max(random_array)"
   ]
  },
  {
   "cell_type": "code",
   "execution_count": 19,
   "id": "47ece4e5-63fa-48b7-8a6e-6d83f5644795",
   "metadata": {},
   "outputs": [],
   "source": [
    "minimum_int = np.min(random_array)"
   ]
  },
  {
   "cell_type": "code",
   "execution_count": 20,
   "id": "3a1c465c-02a5-41cd-939d-ae926a396e54",
   "metadata": {},
   "outputs": [
    {
     "data": {
      "text/plain": [
       "97"
      ]
     },
     "execution_count": 20,
     "metadata": {},
     "output_type": "execute_result"
    }
   ],
   "source": [
    "maximum_int"
   ]
  },
  {
   "cell_type": "code",
   "execution_count": 21,
   "id": "34b338dc-4402-4908-ac38-7e7f920407b9",
   "metadata": {},
   "outputs": [
    {
     "data": {
      "text/plain": [
       "1"
      ]
     },
     "execution_count": 21,
     "metadata": {},
     "output_type": "execute_result"
    }
   ],
   "source": [
    "minimum_int"
   ]
  },
  {
   "cell_type": "markdown",
   "id": "edac200b-bd31-482e-b9bf-217de2fb931a",
   "metadata": {},
   "source": [
    "# Question 7  to compute the mean, standard deviation, and variance of a given array along the second axis in\r\n",
    "NumPy?"
   ]
  },
  {
   "cell_type": "code",
   "execution_count": 22,
   "id": "5b0e39e2-6447-45d0-a500-e6723e7c086b",
   "metadata": {},
   "outputs": [],
   "source": [
    "arrray = np.array([[1,2,3],[1,2,3],[1,2,3]])"
   ]
  },
  {
   "cell_type": "code",
   "execution_count": 23,
   "id": "bebf6c3e-5a72-4452-a014-2c7115f3cde2",
   "metadata": {},
   "outputs": [],
   "source": [
    "arrray_mean = np.mean(arrray)"
   ]
  },
  {
   "cell_type": "code",
   "execution_count": 24,
   "id": "e1e8063a-36f2-4194-8dde-4d82c4c2bb76",
   "metadata": {},
   "outputs": [],
   "source": [
    "arrray_standard_daviation = np.std(arrray)"
   ]
  },
  {
   "cell_type": "code",
   "execution_count": 25,
   "id": "e19916dd-48d8-4873-818d-44f4fd4cfd49",
   "metadata": {},
   "outputs": [],
   "source": [
    "arrray_variance = np.var(arrray)"
   ]
  },
  {
   "cell_type": "code",
   "execution_count": 26,
   "id": "3f7241b9-03b6-48d6-b8bc-942b224bc743",
   "metadata": {},
   "outputs": [
    {
     "data": {
      "text/plain": [
       "2.0"
      ]
     },
     "execution_count": 26,
     "metadata": {},
     "output_type": "execute_result"
    }
   ],
   "source": [
    "arrray_mean"
   ]
  },
  {
   "cell_type": "code",
   "execution_count": 27,
   "id": "f77b0e0b-236e-460d-9929-46f353c16ea1",
   "metadata": {},
   "outputs": [
    {
     "data": {
      "text/plain": [
       "0.816496580927726"
      ]
     },
     "execution_count": 27,
     "metadata": {},
     "output_type": "execute_result"
    }
   ],
   "source": [
    "arrray_standard_daviation"
   ]
  },
  {
   "cell_type": "code",
   "execution_count": 28,
   "id": "8edaca94-3901-4409-bb84-e50ebb6e2d0f",
   "metadata": {},
   "outputs": [
    {
     "data": {
      "text/plain": [
       "0.6666666666666666"
      ]
     },
     "execution_count": 28,
     "metadata": {},
     "output_type": "execute_result"
    }
   ],
   "source": [
    "arrray_variance"
   ]
  },
  {
   "cell_type": "markdown",
   "id": "cdf6f88a-667e-46ec-b8ce-5436b33212ec",
   "metadata": {},
   "source": [
    "## Finish"
   ]
  }
 ],
 "metadata": {
  "kernelspec": {
   "display_name": "Python 3 (ipykernel)",
   "language": "python",
   "name": "python3"
  },
  "language_info": {
   "codemirror_mode": {
    "name": "ipython",
    "version": 3
   },
   "file_extension": ".py",
   "mimetype": "text/x-python",
   "name": "python",
   "nbconvert_exporter": "python",
   "pygments_lexer": "ipython3",
   "version": "3.11.1"
  }
 },
 "nbformat": 4,
 "nbformat_minor": 5
}
